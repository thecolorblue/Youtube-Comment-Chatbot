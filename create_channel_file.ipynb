{
  "nbformat": 4,
  "nbformat_minor": 0,
  "metadata": {
    "colab": {
      "provenance": [],
      "mount_file_id": "13AQWLIpwlZ445p2I10C4e_ojlsq2_6_K",
      "authorship_tag": "ABX9TyOGtNZmT0Appw+wryezRHnc",
      "include_colab_link": true
    },
    "kernelspec": {
      "name": "python3",
      "display_name": "Python 3"
    },
    "language_info": {
      "name": "python"
    }
  },
  "cells": [
    {
      "cell_type": "markdown",
      "metadata": {
        "id": "view-in-github",
        "colab_type": "text"
      },
      "source": [
        "<a href=\"https://colab.research.google.com/github/thecolorblue/Youtube-Comment-Chatbot/blob/main/create_channel_file.ipynb\" target=\"_parent\"><img src=\"https://colab.research.google.com/assets/colab-badge.svg\" alt=\"Open In Colab\"/></a>"
      ]
    },
    {
      "cell_type": "code",
      "source": [
        "!pip install progress\n",
        "!pip install openai"
      ],
      "metadata": {
        "colab": {
          "base_uri": "https://localhost:8080/"
        },
        "id": "sOqsSnfhOJvy",
        "outputId": "a0e4a6b4-1790-4fd8-eb0a-c5355474b476"
      },
      "execution_count": null,
      "outputs": [
        {
          "output_type": "stream",
          "name": "stdout",
          "text": [
            "Requirement already satisfied: progress in /usr/local/lib/python3.10/dist-packages (1.6)\n",
            "Requirement already satisfied: openai in /usr/local/lib/python3.10/dist-packages (0.27.8)\n",
            "Requirement already satisfied: requests>=2.20 in /usr/local/lib/python3.10/dist-packages (from openai) (2.27.1)\n",
            "Requirement already satisfied: tqdm in /usr/local/lib/python3.10/dist-packages (from openai) (4.65.0)\n",
            "Requirement already satisfied: aiohttp in /usr/local/lib/python3.10/dist-packages (from openai) (3.8.4)\n",
            "Requirement already satisfied: urllib3<1.27,>=1.21.1 in /usr/local/lib/python3.10/dist-packages (from requests>=2.20->openai) (1.26.16)\n",
            "Requirement already satisfied: certifi>=2017.4.17 in /usr/local/lib/python3.10/dist-packages (from requests>=2.20->openai) (2023.5.7)\n",
            "Requirement already satisfied: charset-normalizer~=2.0.0 in /usr/local/lib/python3.10/dist-packages (from requests>=2.20->openai) (2.0.12)\n",
            "Requirement already satisfied: idna<4,>=2.5 in /usr/local/lib/python3.10/dist-packages (from requests>=2.20->openai) (3.4)\n",
            "Requirement already satisfied: attrs>=17.3.0 in /usr/local/lib/python3.10/dist-packages (from aiohttp->openai) (23.1.0)\n",
            "Requirement already satisfied: multidict<7.0,>=4.5 in /usr/local/lib/python3.10/dist-packages (from aiohttp->openai) (6.0.4)\n",
            "Requirement already satisfied: async-timeout<5.0,>=4.0.0a3 in /usr/local/lib/python3.10/dist-packages (from aiohttp->openai) (4.0.2)\n",
            "Requirement already satisfied: yarl<2.0,>=1.0 in /usr/local/lib/python3.10/dist-packages (from aiohttp->openai) (1.9.2)\n",
            "Requirement already satisfied: frozenlist>=1.1.1 in /usr/local/lib/python3.10/dist-packages (from aiohttp->openai) (1.3.3)\n",
            "Requirement already satisfied: aiosignal>=1.1.2 in /usr/local/lib/python3.10/dist-packages (from aiohttp->openai) (1.3.1)\n"
          ]
        }
      ]
    },
    {
      "cell_type": "code",
      "execution_count": 1,
      "metadata": {
        "id": "ntW5vila8bU4"
      },
      "outputs": [],
      "source": [
        "import os\n",
        "import google_auth_oauthlib.flow\n",
        "import googleapiclient.discovery\n",
        "import googleapiclient.errors\n",
        "import requests\n",
        "\n",
        "# Replace with your own API key\n",
        "# instructions to get your key are here:\n",
        "# https://developers.google.com/youtube/v3/getting-started\n",
        "yt_api_key = \"YOUR_API_KEY\"\n",
        "\n",
        "# replace with the channel id (not the username)\n",
        "# lookup the channel id here:\n",
        "# https://developers.google.com/youtube/v3/docs/channels/list\n",
        "channel_id = 'UCJ0FT6Ijeyf6Mr-GdOBsVAQ'\n",
        "\n",
        "def get_video_ids(channel_id):\n",
        "    videos = []\n",
        "    base_url = \"https://www.googleapis.com/youtube/v3/\"\n",
        "    first_url = f\"{base_url}search?key={yt_api_key}&channelId={channel_id}&part=id,snippet&order=date&maxResults=100\"\n",
        "    url = first_url\n",
        "\n",
        "    while True:\n",
        "        response = requests.get(url)\n",
        "        data = response.json()\n",
        "        if 'error' in data:\n",
        "          print(data['error'])\n",
        "          break\n",
        "\n",
        "        if 'items' in data:\n",
        "          for item in data[\"items\"]:\n",
        "              if item[\"id\"][\"kind\"] == \"youtube#video\":\n",
        "                videos.append((\n",
        "                    item[\"id\"][\"videoId\"],\n",
        "                    item[\"snippet\"][\"title\"],\n",
        "                    item[\"snippet\"][\"description\"],\n",
        "                ))\n",
        "\n",
        "        try:\n",
        "            next_token = data[\"nextPageToken\"]\n",
        "            url = f\"{first_url}&pageToken={next_token}\"\n",
        "        except KeyError:\n",
        "            break\n",
        "\n",
        "    return videos\n",
        "\n",
        "\n",
        "def get_comments(video):\n",
        "    video_id, title, description = video\n",
        "    comments = []\n",
        "    base_url = \"https://www.googleapis.com/youtube/v3/\"\n",
        "    first_url = f\"{base_url}commentThreads?key={yt_api_key}&videoId={video_id}&part=snippet&maxResults=100\"\n",
        "\n",
        "    url = first_url\n",
        "    while True:\n",
        "        response = requests.get(url)\n",
        "        data = response.json()\n",
        "        if 'error' in data:\n",
        "          print(data['error'])\n",
        "          break\n",
        "\n",
        "        for item in data[\"items\"]:\n",
        "            comment = item[\"snippet\"][\"topLevelComment\"][\"snippet\"][\"textOriginal\"]\n",
        "            comments.append(comment)\n",
        "\n",
        "        try:\n",
        "            next_token = data[\"nextPageToken\"]\n",
        "            url = f\"{first_url}&pageToken={next_token}\"\n",
        "        except KeyError:\n",
        "            break\n",
        "\n",
        "    return comments\n",
        "\n",
        "\n"
      ]
    },
    {
      "cell_type": "code",
      "source": [
        "from tqdm import tqdm\n",
        "import pandas as pd\n",
        "\n",
        "video_ids = get_video_ids(channel_id)\n",
        "\n",
        "all_comments = []\n",
        "print(video_ids)\n",
        "for video in tqdm(video_ids):\n",
        "    comments = get_comments(video)\n",
        "    all_comments.append(comments)\n",
        "\n",
        "print('comments found:')\n",
        "print(len([comment for video_comments in all_comments for comment in video_comments]))\n",
        "\n",
        "df = pd.DataFrame({\n",
        "    'comments': all_comments,\n",
        "    'video_id': [i[0] for i in video_ids],\n",
        "    'title': [i[1] for i in video_ids],\n",
        "    'description': [i[2] for i in video_ids]\n",
        "})\n",
        "\n",
        "file_path = f\"./drive/MyDrive/yt_channels/channel_{channel_id}.feather\"\n",
        "df.to_feather(file_path)"
      ],
      "metadata": {
        "id": "n8cFCRzpAOae"
      },
      "execution_count": null,
      "outputs": []
    },
    {
      "cell_type": "code",
      "source": [
        "!pip install openai\n",
        "!pip install progress"
      ],
      "metadata": {
        "id": "jgFjYCakHhHF"
      },
      "execution_count": null,
      "outputs": []
    },
    {
      "cell_type": "code",
      "source": [
        "import openai\n",
        "import pandas as pd\n",
        "from progress.bar import IncrementalBar\n",
        "import concurrent.futures\n",
        "\n",
        "EMBEDDING_MODEL = \"text-embedding-ada-002\"\n",
        "GPT_MODEL = \"gpt-3.5-turbo\"\n",
        "\n",
        "# Open AI API key\n",
        "# You can create one here:\n",
        "# https://platform.openai.com/account/api-keys\n",
        "OPENAI_API_KEY = ''\n",
        "file_name = f'channel_{channel_id}'\n",
        "\n",
        "# the channel files will look like this:\n",
        "# pd.DataFrame({\n",
        "#     'comments': all_comments,\n",
        "#     'video_id': [i[0] for i in video_ids],\n",
        "#     'title': [i[1] for i in video_ids],\n",
        "#     'description': [i[2] for i in video_ids]\n",
        "# })\n",
        "\n",
        "channel = pd.concat([\n",
        "  pd.read_feather(f'/content/drive/MyDrive/yt_channels/{file_name}.feather'),\n",
        "])\n",
        "\n",
        "sentences = [comment for video_comments in channel['comments'] for comment in video_comments]\n",
        "\n",
        "print(len(sentences))"
      ],
      "metadata": {
        "id": "f_SPxpDWHgrq"
      },
      "execution_count": null,
      "outputs": []
    },
    {
      "cell_type": "code",
      "source": [
        "\n",
        "from tqdm import tqdm\n",
        "\n",
        "results = []\n",
        "df = pd.DataFrame()\n",
        "\n",
        "for sentence in tqdm(sentences, mininterval=15, miniters=len(sentences)/100):\n",
        "    try:\n",
        "      response = openai.Embedding.create(api_key=OPENAI_API_KEY,\n",
        "                      input=[str(sentence)[0:8190]],\n",
        "                      model=EMBEDDING_MODEL)\n",
        "    except Exception as e:\n",
        "      print(e)\n",
        "      print(sentences)\n",
        "      continue\n",
        "\n",
        "    embedding = response[\"data\"][0][\"embedding\"]\n",
        "    results.append({\"quote\": sentence, \"embedding\": embedding})\n",
        "\n",
        "df = pd.DataFrame(results)\n",
        "\n",
        "df.to_feather('./drive/MyDrive/yt_comments/scottish_murmurs_comments.feather')"
      ],
      "metadata": {
        "id": "9d11nG9YHnlt"
      },
      "execution_count": null,
      "outputs": []
    }
  ]
}